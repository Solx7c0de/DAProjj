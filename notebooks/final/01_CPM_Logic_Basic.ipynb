{
 "cells": [
  {
   "cell_type": "code",
   "execution_count": 7,
   "id": "1891bb3f-7236-43da-9edb-b91ddbe6ba25",
   "metadata": {},
   "outputs": [
    {
     "name": "stdout",
     "output_type": "stream",
     "text": [
      "D:\\CODE\\DAProj\\notebooks\n"
     ]
    }
   ],
   "source": [
    "\n",
    "import os\n",
    "os.chdir('..')  # move one level up\n"
   ]
  },
  {
   "cell_type": "code",
   "execution_count": 8,
   "id": "d367b0b7-d40a-4052-89ee-2d429634016a",
   "metadata": {},
   "outputs": [
    {
     "name": "stdout",
     "output_type": "stream",
     "text": [
      "D:\\CODE\\DAProj\n"
     ]
    }
   ],
   "source": [
    "import os\n",
    "print(os.getcwd())"
   ]
  },
  {
   "cell_type": "code",
   "execution_count": 11,
   "id": "a26b5462-82f8-43e2-9070-88c39d140ade",
   "metadata": {},
   "outputs": [
    {
     "name": "stdout",
     "output_type": "stream",
     "text": [
      "✅ Cleaned data saved as: data/processed/tasks_cleaned_v3_20250613_170848.csv\n",
      "[('A', {'duration': 4}), ('B', {'duration': 5}), ('C', {'duration': 3}), ('D', {'duration': 6}), ('E', {'duration': 5}), ('F', {'duration': 4}), ('G', {'duration': 2})]\n",
      "[('A', 'B'), ('B', 'C'), ('B', 'D'), ('C', 'F'), ('D', 'E'), ('D', 'F'), ('E', 'G'), ('F', 'G')]\n"
     ]
    }
   ],
   "source": [
    "import pandas as pd\n",
    "import sys\n",
    "import os\n",
    "\n",
    "# Add scripts/ directory to the import path\n",
    "sys.path.append(os.path.abspath(os.path.join(os.getcwd(), 'scripts')))\n",
    "\n",
    "# Step 1: Load the raw task data\n",
    "df_raw = pd.read_excel('D:/CODE/DAProj/data/raw/tasks_raw_v1.xlsx', sheet_name='schedule')\n",
    "\n",
    "# Step 2: Rename columns for consistency\n",
    "df_raw.columns = df_raw.columns.str.strip().str.title()\n",
    "\n",
    "# Step 3: Handle null or placeholder values in 'Predecessors'\n",
    "null_values = ['none', 'nil', 'None', 'Nil', 'NIL', '-', ' ']\n",
    "df_raw['Predecessors'] = df_raw['Predecessors'].replace(null_values, '', regex=True).fillna('')\n",
    "\n",
    "# Step 4: Convert to list if multiple predecessors exist\n",
    "df_raw['Predecessors'] = df_raw['Predecessors'].apply(lambda x: [i.strip() for i in x.split(',')] if x else [])\n",
    "\n",
    "# Step 5: Explode the list into separate rows\n",
    "df_exploded = df_raw.explode('Predecessors')\n",
    "\n",
    "# Step 6: Treat empty predecessors as None\n",
    "df_exploded['Predecessors'] = df_exploded['Predecessors'].replace('', None)\n",
    "\n",
    "# Step 7: Reset index and save cleaned version if needed\n",
    "df_cleaned = df_exploded.reset_index(drop=True)\n",
    "\n",
    "# Rename 'Activity Id' to 'Activity'\n",
    "df_cleaned.rename(columns={'Activity Id': 'Activity'}, inplace=True)\n",
    "\n",
    "# Set 'Duration' equal to the 'Most Probable Time' column\n",
    "df_cleaned['Duration'] = df_cleaned['Most Likely Time']\n",
    "\n",
    "df_cleaned.to_csv('data/processed/tasks_cleaned_v1.csv', index=False)\n",
    "\n",
    "#ensures unique date and time assigned to each file pre processed.\n",
    "import os\n",
    "import glob\n",
    "from datetime import datetime\n",
    "\n",
    "# Step X: Save cleaned DataFrame with auto-version and timestamp\n",
    "os.makedirs('data/processed', exist_ok=True)\n",
    "\n",
    "# Generate timestamp\n",
    "timestamp = datetime.now().strftime(\"%Y%m%d_%H%M%S\")\n",
    "\n",
    "# Count existing versions\n",
    "existing_files = glob.glob('data/processed/tasks_cleaned_v*.csv')\n",
    "version = len(existing_files) + 1\n",
    "\n",
    "# Compose filename\n",
    "filename = f\"data/processed/tasks_cleaned_v{version}_{timestamp}.csv\"\n",
    "\n",
    "# Save file\n",
    "df_cleaned.to_csv(filename, index=False)\n",
    "\n",
    "print(f\"✅ Cleaned data saved as: {filename}\")\n",
    "\n",
    "\n",
    "\n",
    "from cpm_utils import build_activity_graph\n",
    "\n",
    "G = build_activity_graph(df_cleaned)\n",
    "print(G.nodes(data=True))\n",
    "print(G.edges())"
   ]
  },
  {
   "cell_type": "code",
   "execution_count": null,
   "id": "e5e6732f-cf90-48f6-8084-4d1325f2d388",
   "metadata": {},
   "outputs": [],
   "source": [
    "\n"
   ]
  },
  {
   "cell_type": "code",
   "execution_count": null,
   "id": "f942dd1c-0a19-46b6-b87f-407934462080",
   "metadata": {},
   "outputs": [],
   "source": [
    "\n"
   ]
  },
  {
   "cell_type": "code",
   "execution_count": null,
   "id": "5e35c11d-beba-4c9e-a1c3-1d864642199f",
   "metadata": {},
   "outputs": [],
   "source": []
  }
 ],
 "metadata": {
  "kernelspec": {
   "display_name": "Python 3 (ipykernel)",
   "language": "python",
   "name": "python3"
  },
  "language_info": {
   "codemirror_mode": {
    "name": "ipython",
    "version": 3
   },
   "file_extension": ".py",
   "mimetype": "text/x-python",
   "name": "python",
   "nbconvert_exporter": "python",
   "pygments_lexer": "ipython3",
   "version": "3.12.3"
  }
 },
 "nbformat": 4,
 "nbformat_minor": 5
}
