# Starter Jupyter Notebook

This is where your initial CPM/PERT logic can go.